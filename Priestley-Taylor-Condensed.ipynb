{
 "cells": [
  {
   "cell_type": "markdown",
   "metadata": {},
   "source": [
    "# Priestley-Taylor PET calculations\n",
    "\n",
    "**Last Updated: August 17, 2018**\n",
    "\n",
    "**Emma Collins**\n",
    "\n",
    "In this notebook we will calculate PET for Congaree National Park area using Priestly-Taylor equations (1972); thus, the potential evapotranspiration will be guided by the following: \n",
    "\n",
    "$$\\begin{equation}\n",
    "PET = \\alpha * \\frac{\\Delta}{\\Delta +\\gamma}(R_n-G)\n",
    "\\end{equation}$$\n",
    "\n",
    "where $\\Delta$ is the slope of saturation vapor pressure curve at air temperature $T$, $\\gamma$ is the psychrometric constant, $R_n$ is net radiation, $G$ si the heat flux transfer to and from the soil, and $\\alpha$ is a saturation deficit term.\n",
    "\n",
    "We will utilize weather station and solar radiation data from the following sources:\n",
    "- Weather Station:\n",
    "    - Remote Automated Weather Station (RAWS)\n",
    "    - Site Name: Congaree\n",
    "    - Site Code: SCON\n",
    "    - Station ID: GDNS1\n",
    "    - Watershed HUC8 : 03050110\n",
    "    - Lat/Long: 33˚48'54\"N, 80˚46'52\"W\n",
    "    - Elevation: 123 ft\n",
    "- National Solar Radiation Database\n",
    "    "
   ]
  },
  {
   "cell_type": "code",
   "execution_count": 1,
   "metadata": {},
   "outputs": [],
   "source": [
    "import numpy as np\n",
    "import pandas as pd\n",
    "import PriestlyTaylorET as PT\n",
    "import MesoWestAPI as mwAPI\n",
    "import NSRDBAPI as solradAPI"
   ]
  },
  {
   "cell_type": "markdown",
   "metadata": {},
   "source": [
    "## Loading the Data\n",
    "\n",
    "First, we need all data inputs necessary for PET calculations. "
   ]
  },
  {
   "cell_type": "markdown",
   "metadata": {},
   "source": [
    "### Extraterrestrial Solar Radiation Data download\n",
    "\n",
    "Using the NREL National Solar Radiation Database API. Note: this code is dependent on the `NSRDBAPI.py` module. See module for specific code"
   ]
  },
  {
   "cell_type": "markdown",
   "metadata": {},
   "source": [
    "We will save the extraterrestrial solar radiation in a dataframe. I've selected GHI as the parameter to download from the database. GHI stands for Global Horizontal Irradiance, which is defined as:\n",
    "- \"the total amount of shortwave radiation received from above by a horizontal surface. This value is of particular interest to photovoltaic installations and includes both Direct Normal Irradiance (DNI) and Diffuse Horizontal Irradiance (DIF).\" (https://www.3tier.com/en/support/glossary/#ghi)"
   ]
  },
  {
   "cell_type": "code",
   "execution_count": 2,
   "metadata": {},
   "outputs": [
    {
     "name": "stdout",
     "output_type": "stream",
     "text": [
      "                DateTime  Year  Month  Day  Hour  Minute  GHI\n",
      "0    2009-06-01 00:00:00  2009      6    1     0      30    0\n",
      "1    2009-06-01 01:00:00  2009      6    1     1      30    0\n",
      "2    2009-06-01 02:00:00  2009      6    1     2      30    0\n",
      "3    2009-06-01 03:00:00  2009      6    1     3      30    0\n",
      "4    2009-06-01 04:00:00  2009      6    1     4      30    0\n",
      "5    2009-06-01 05:00:00  2009      6    1     5      30   14\n",
      "6    2009-06-01 06:00:00  2009      6    1     6      30  167\n",
      "7    2009-06-01 07:00:00  2009      6    1     7      30  364\n",
      "8    2009-06-01 08:00:00  2009      6    1     8      30  562\n",
      "9    2009-06-01 09:00:00  2009      6    1     9      30  735\n",
      "10   2009-06-01 10:00:00  2009      6    1    10      30  868\n",
      "11   2009-06-01 11:00:00  2009      6    1    11      30  948\n",
      "12   2009-06-01 12:00:00  2009      6    1    12      30  969\n",
      "13   2009-06-01 13:00:00  2009      6    1    13      30  695\n",
      "14   2009-06-01 14:00:00  2009      6    1    14      30  832\n",
      "15   2009-06-01 15:00:00  2009      6    1    15      30  686\n",
      "16   2009-06-01 16:00:00  2009      6    1    16      30  504\n",
      "17   2009-06-01 17:00:00  2009      6    1    17      30  250\n",
      "18   2009-06-01 18:00:00  2009      6    1    18      30  111\n",
      "19   2009-06-01 19:00:00  2009      6    1    19      30    0\n",
      "20   2009-06-01 20:00:00  2009      6    1    20      30    0\n",
      "21   2009-06-01 21:00:00  2009      6    1    21      30    0\n",
      "22   2009-06-01 22:00:00  2009      6    1    22      30    0\n",
      "23   2009-06-01 23:00:00  2009      6    1    23      30    0\n",
      "24   2009-06-02 00:00:00  2009      6    2     0      30    0\n",
      "25   2009-06-02 01:00:00  2009      6    2     1      30    0\n",
      "26   2009-06-02 02:00:00  2009      6    2     2      30    0\n",
      "27   2009-06-02 03:00:00  2009      6    2     3      30    0\n",
      "28   2009-06-02 04:00:00  2009      6    2     4      30    0\n",
      "29   2009-06-02 05:00:00  2009      6    2     5      30   15\n",
      "...                  ...   ...    ...  ...   ...     ...  ...\n",
      "1434 2009-07-30 18:00:00  2009      7   30    18      30   66\n",
      "1435 2009-07-30 19:00:00  2009      7   30    19      30    0\n",
      "1436 2009-07-30 20:00:00  2009      7   30    20      30    0\n",
      "1437 2009-07-30 21:00:00  2009      7   30    21      30    0\n",
      "1438 2009-07-30 22:00:00  2009      7   30    22      30    0\n",
      "1439 2009-07-30 23:00:00  2009      7   30    23      30    0\n",
      "1440 2009-07-31 00:00:00  2009      7   31     0      30    0\n",
      "1441 2009-07-31 01:00:00  2009      7   31     1      30    0\n",
      "1442 2009-07-31 02:00:00  2009      7   31     2      30    0\n",
      "1443 2009-07-31 03:00:00  2009      7   31     3      30    0\n",
      "1444 2009-07-31 04:00:00  2009      7   31     4      30    0\n",
      "1445 2009-07-31 05:00:00  2009      7   31     5      30    0\n",
      "1446 2009-07-31 06:00:00  2009      7   31     6      30   96\n",
      "1447 2009-07-31 07:00:00  2009      7   31     7      30  297\n",
      "1448 2009-07-31 08:00:00  2009      7   31     8      30  495\n",
      "1449 2009-07-31 09:00:00  2009      7   31     9      30  673\n",
      "1450 2009-07-31 10:00:00  2009      7   31    10      30  813\n",
      "1451 2009-07-31 11:00:00  2009      7   31    11      30  901\n",
      "1452 2009-07-31 12:00:00  2009      7   31    12      30  376\n",
      "1453 2009-07-31 13:00:00  2009      7   31    13      30  897\n",
      "1454 2009-07-31 14:00:00  2009      7   31    14      30  807\n",
      "1455 2009-07-31 15:00:00  2009      7   31    15      30  310\n",
      "1456 2009-07-31 16:00:00  2009      7   31    16      30  132\n",
      "1457 2009-07-31 17:00:00  2009      7   31    17      30   15\n",
      "1458 2009-07-31 18:00:00  2009      7   31    18      30   56\n",
      "1459 2009-07-31 19:00:00  2009      7   31    19      30    0\n",
      "1460 2009-07-31 20:00:00  2009      7   31    20      30    0\n",
      "1461 2009-07-31 21:00:00  2009      7   31    21      30    0\n",
      "1462 2009-07-31 22:00:00  2009      7   31    22      30    0\n",
      "1463 2009-07-31 23:00:00  2009      7   31    23      30    0\n",
      "\n",
      "[1464 rows x 7 columns]\n",
      "\n",
      "--------------------\n",
      "\n",
      "Timezone (hrs to UTC): -5\n",
      "\n",
      "\n",
      "Elevation (m): 32\n"
     ]
    }
   ],
   "source": [
    "#Attributes to download from NSRDB\n",
    "attributes = 'ghi'\n",
    "\n",
    "#Latitude and Longitude of area of interest\n",
    "lat, lon = 33.814722, -80.781111\n",
    "\n",
    "#Year of interest\n",
    "year = '2009'\n",
    "\n",
    "#Specific Start and End date of interest\n",
    "start_time = '2009-6-1'\n",
    "end_time = '2009-7-31'\n",
    "\n",
    "#Access the API\n",
    "metadata, GHI_df = solradAPI.access_NSRDB(lat, lon, year, attributes)\n",
    "GHI_df = solradAPI.subset_NSRDB_df(GHI_df, start_time, end_time, preview = False)\n",
    "print(GHI_df)\n",
    "\n",
    "# See metadata for specified properties, e.g., timezone and elevation\n",
    "timezone, elevation = metadata['Local Time Zone'], metadata['Elevation']\n",
    "print('\\n--------------------\\n\\nTimezone (hrs to UTC):', timezone[0])\n",
    "print('\\n\\nElevation (m):', elevation[0])\n"
   ]
  },
  {
   "cell_type": "markdown",
   "metadata": {},
   "source": [
    "## Accessing Weather Station Data\n",
    "\n",
    "Using MesoWest API for Congaree Weather Station GDNS1. Note: this code is dependent on `MesoWestAPI.py` module to work, and `access_mesoWest()` has more optional inputs. For convenience the station and parameters of interest have been set as the default."
   ]
  },
  {
   "cell_type": "code",
   "execution_count": 3,
   "metadata": {},
   "outputs": [],
   "source": [
    "#Define the period of interest in the format yyyymmddHHMM\n",
    "start_time = '200906010400'\n",
    "end_time = '200908010400'\n",
    "\n",
    "#This function returns a JSON object containing the desired weather station data\n",
    "weather = mwAPI.access_mesoWest(start_time, end_time)"
   ]
  },
  {
   "cell_type": "code",
   "execution_count": 4,
   "metadata": {},
   "outputs": [],
   "source": [
    "#Store observations as numpy arrays, note observations are hourly\n",
    "date_time = np.array(weather['STATION'][0]['OBSERVATIONS']['date_time'])\n",
    "solar_radiation = np.array(weather['STATION'][0]['OBSERVATIONS']['solar_radiation_set_1'])\n",
    "fuel_temp = np.array(weather['STATION'][0]['OBSERVATIONS']['fuel_temp_set_1'])\n",
    "relative_humidity = np.array(weather['STATION'][0]['OBSERVATIONS']['relative_humidity_set_1'])\n",
    "fuel_moisture = np.array(weather['STATION'][0]['OBSERVATIONS']['fuel_moisture_set_1'])\n",
    "air_temp = np.array(weather['STATION'][0]['OBSERVATIONS']['air_temp_set_1'])\n",
    "precip_accum = np.array(weather['STATION'][0]['OBSERVATIONS']['precip_accumulated_set_1d'])"
   ]
  },
  {
   "cell_type": "markdown",
   "metadata": {},
   "source": [
    "### Missing Data\n",
    "\n",
    "To handle the missing data issue, we will ensure that we only keep weather station and solar radiation data points when both are available.\n",
    "\n",
    "Note: This is the largest computational cost of the program, and discards potentially many data points. Should we use interpolation methods to fill in missing data? "
   ]
  },
  {
   "cell_type": "code",
   "execution_count": 5,
   "metadata": {},
   "outputs": [],
   "source": [
    "GHI_ind = []\n",
    "weather_ind = []\n",
    "for i in range(len(GHI_df.iloc[:,0])):\n",
    "    for j in range(len(date_time)):\n",
    "        if np.datetime64(GHI_df.iloc[i,0])== np.datetime64(date_time[j][0:13]):\n",
    "            if relative_humidity[j] and solar_radiation[j] and fuel_temp[j] and fuel_moisture[j] and air_temp[j] and precip_accum[j]:\n",
    "                GHI_ind.append(i)\n",
    "                weather_ind.append(j)"
   ]
  },
  {
   "cell_type": "markdown",
   "metadata": {},
   "source": [
    "Here I aggregate GHI by sum to get a daily value."
   ]
  },
  {
   "cell_type": "code",
   "execution_count": 6,
   "metadata": {},
   "outputs": [
    {
     "data": {
      "text/html": [
       "<div>\n",
       "<style scoped>\n",
       "    .dataframe tbody tr th:only-of-type {\n",
       "        vertical-align: middle;\n",
       "    }\n",
       "\n",
       "    .dataframe tbody tr th {\n",
       "        vertical-align: top;\n",
       "    }\n",
       "\n",
       "    .dataframe thead th {\n",
       "        text-align: right;\n",
       "    }\n",
       "</style>\n",
       "<table border=\"1\" class=\"dataframe\">\n",
       "  <thead>\n",
       "    <tr style=\"text-align: right;\">\n",
       "      <th></th>\n",
       "      <th></th>\n",
       "      <th></th>\n",
       "      <th>GHI</th>\n",
       "    </tr>\n",
       "    <tr>\n",
       "      <th>Year</th>\n",
       "      <th>Month</th>\n",
       "      <th>Day</th>\n",
       "      <th></th>\n",
       "    </tr>\n",
       "  </thead>\n",
       "  <tbody>\n",
       "    <tr>\n",
       "      <th rowspan=\"5\" valign=\"top\">2009</th>\n",
       "      <th rowspan=\"5\" valign=\"top\">6</th>\n",
       "      <th>10</th>\n",
       "      <td>2043</td>\n",
       "    </tr>\n",
       "    <tr>\n",
       "      <th>11</th>\n",
       "      <td>3696</td>\n",
       "    </tr>\n",
       "    <tr>\n",
       "      <th>12</th>\n",
       "      <td>6130</td>\n",
       "    </tr>\n",
       "    <tr>\n",
       "      <th>13</th>\n",
       "      <td>6766</td>\n",
       "    </tr>\n",
       "    <tr>\n",
       "      <th>14</th>\n",
       "      <td>6505</td>\n",
       "    </tr>\n",
       "  </tbody>\n",
       "</table>\n",
       "</div>"
      ],
      "text/plain": [
       "                 GHI\n",
       "Year Month Day      \n",
       "2009 6     10   2043\n",
       "           11   3696\n",
       "           12   6130\n",
       "           13   6766\n",
       "           14   6505"
      ]
     },
     "execution_count": 6,
     "metadata": {},
     "output_type": "execute_result"
    }
   ],
   "source": [
    "GHI_daily = GHI_df.iloc[GHI_ind].groupby(['Year','Month', 'Day']).agg({'GHI':'sum'})\n",
    "GHI_daily.head()"
   ]
  },
  {
   "cell_type": "code",
   "execution_count": 7,
   "metadata": {},
   "outputs": [],
   "source": [
    "date_time = date_time[weather_ind]\n",
    "solar_radiation = solar_radiation[weather_ind]\n",
    "fuel_temp = fuel_temp[weather_ind]\n",
    "relative_humidity = relative_humidity[weather_ind]\n",
    "fuel_moisture = fuel_moisture[weather_ind]\n",
    "air_temp = air_temp[weather_ind]"
   ]
  },
  {
   "cell_type": "markdown",
   "metadata": {},
   "source": [
    "### Aggregating Weather Station to Daily Values"
   ]
  },
  {
   "cell_type": "code",
   "execution_count": 8,
   "metadata": {},
   "outputs": [
    {
     "data": {
      "text/html": [
       "<div>\n",
       "<style scoped>\n",
       "    .dataframe tbody tr th:only-of-type {\n",
       "        vertical-align: middle;\n",
       "    }\n",
       "\n",
       "    .dataframe tbody tr th {\n",
       "        vertical-align: top;\n",
       "    }\n",
       "\n",
       "    .dataframe thead th {\n",
       "        text-align: right;\n",
       "    }\n",
       "</style>\n",
       "<table border=\"1\" class=\"dataframe\">\n",
       "  <thead>\n",
       "    <tr style=\"text-align: right;\">\n",
       "      <th></th>\n",
       "      <th>air_temp_set_1</th>\n",
       "      <th>fuel_moisture_set_1</th>\n",
       "      <th>fuel_temp_set_1</th>\n",
       "      <th>relative_humidity_set_1</th>\n",
       "      <th>solar_radiation_set_1</th>\n",
       "    </tr>\n",
       "    <tr>\n",
       "      <th>date_time</th>\n",
       "      <th></th>\n",
       "      <th></th>\n",
       "      <th></th>\n",
       "      <th></th>\n",
       "      <th></th>\n",
       "    </tr>\n",
       "  </thead>\n",
       "  <tbody>\n",
       "    <tr>\n",
       "      <th>2009-06-10</th>\n",
       "      <td>24.977500</td>\n",
       "      <td>20.183333</td>\n",
       "      <td>26.481250</td>\n",
       "      <td>78.818182</td>\n",
       "      <td>5494.0</td>\n",
       "    </tr>\n",
       "    <tr>\n",
       "      <th>2009-06-11</th>\n",
       "      <td>23.797083</td>\n",
       "      <td>21.916667</td>\n",
       "      <td>25.255417</td>\n",
       "      <td>84.157895</td>\n",
       "      <td>4829.0</td>\n",
       "    </tr>\n",
       "    <tr>\n",
       "      <th>2009-06-12</th>\n",
       "      <td>24.258750</td>\n",
       "      <td>22.470833</td>\n",
       "      <td>25.623750</td>\n",
       "      <td>87.166667</td>\n",
       "      <td>4902.0</td>\n",
       "    </tr>\n",
       "    <tr>\n",
       "      <th>2009-06-13</th>\n",
       "      <td>25.810417</td>\n",
       "      <td>18.954167</td>\n",
       "      <td>27.570000</td>\n",
       "      <td>82.208333</td>\n",
       "      <td>5667.0</td>\n",
       "    </tr>\n",
       "    <tr>\n",
       "      <th>2009-06-14</th>\n",
       "      <td>26.064167</td>\n",
       "      <td>16.883333</td>\n",
       "      <td>28.264583</td>\n",
       "      <td>80.125000</td>\n",
       "      <td>5484.0</td>\n",
       "    </tr>\n",
       "  </tbody>\n",
       "</table>\n",
       "</div>"
      ],
      "text/plain": [
       "            air_temp_set_1  fuel_moisture_set_1  fuel_temp_set_1  \\\n",
       "date_time                                                          \n",
       "2009-06-10       24.977500            20.183333        26.481250   \n",
       "2009-06-11       23.797083            21.916667        25.255417   \n",
       "2009-06-12       24.258750            22.470833        25.623750   \n",
       "2009-06-13       25.810417            18.954167        27.570000   \n",
       "2009-06-14       26.064167            16.883333        28.264583   \n",
       "\n",
       "            relative_humidity_set_1  solar_radiation_set_1  \n",
       "date_time                                                   \n",
       "2009-06-10                78.818182                 5494.0  \n",
       "2009-06-11                84.157895                 4829.0  \n",
       "2009-06-12                87.166667                 4902.0  \n",
       "2009-06-13                82.208333                 5667.0  \n",
       "2009-06-14                80.125000                 5484.0  "
      ]
     },
     "execution_count": 8,
     "metadata": {},
     "output_type": "execute_result"
    }
   ],
   "source": [
    "weather_station = pd.DataFrame(weather['STATION'][0]['OBSERVATIONS'])\n",
    "weather_station['date_time'] = pd.to_datetime(weather_station['date_time'], format = '%Y-%m-%d %H:%M')\n",
    "weather_station['date_time'] = weather_station['date_time'].dt.floor('d')\n",
    "weather_station_daily = weather_station.groupby(['date_time']).agg({'air_temp_set_1':'mean','fuel_moisture_set_1':'mean', 'fuel_temp_set_1':'mean', 'relative_humidity_set_1':'mean', 'solar_radiation_set_1':'sum'})\n",
    "weather_station_daily = weather_station_daily.dropna(how = 'any')\n",
    "weather_station_daily.head()\n"
   ]
  },
  {
   "cell_type": "markdown",
   "metadata": {},
   "source": [
    "### Converting from Solar Radiation To Net Radiation\n",
    "\n",
    "Albedo is manually set at 0.15, which is an estimate for coniferous/decidious forests (http://www.climatedata.info/forcing/albedo/).\n",
    "\n",
    "$a_c$, $b_c$ (FAO 1990)"
   ]
  },
  {
   "cell_type": "code",
   "execution_count": 9,
   "metadata": {},
   "outputs": [],
   "source": [
    "#For a coniferous/deciduous forest, albedo is set at 0.15\n",
    "albedo = 0.15\n",
    "\n",
    "#extraterrestrial solar radiation\n",
    "Ra = np.asarray(GHI_daily)\n",
    "\n",
    "#Convert from W/m**2 to MJ/m**2/d\n",
    "Ra = Ra*0.0864\n",
    "solar_radiation = np.asarray(weather_station_daily['solar_radiation_set_1'])\n",
    "solar_radiation = solar_radiation*0.0864\n",
    "\n",
    "#Elevation of weather station(m)\n",
    "elevation_ft = np.float(weather['STATION'][0]['ELEVATION'])\n",
    "elevation = elevation_ft*.3048\n",
    "\n",
    "#Daily Air Temp\n",
    "air_temp_daily = np.asarray(weather_station_daily['air_temp_set_1'])\n",
    "\n",
    "#Daily Relative Humidity\n",
    "relative_humidity_daily = np.asarray(weather_station_daily['relative_humidity_set_1'])\n",
    "\n",
    "#Daily Fuel Temp\n",
    "fuel_temp_daily = np.asarray(weather_station_daily['fuel_temp_set_1'])\n",
    "\n",
    "#Daily Fuel Moisture\n",
    "fuel_moisture_daily = np.asarray(weather_station_daily['fuel_moisture_set_1'])"
   ]
  },
  {
   "cell_type": "markdown",
   "metadata": {},
   "source": [
    "### Priestley-Taylor PET calculations"
   ]
  },
  {
   "cell_type": "markdown",
   "metadata": {},
   "source": [
    "Implementing Priestly Taylor for Congaree NP"
   ]
  },
  {
   "cell_type": "code",
   "execution_count": 10,
   "metadata": {},
   "outputs": [],
   "source": [
    "evapotranspiration = PT.PET(air_temp_daily, fuel_temp_daily, elevation,relative_humidity_daily, fuel_moisture_daily, solar_radiation, Ra, albedo)\n",
    "\n",
    "#convert from MJ/m**2/day to mm/day\n",
    "evapotranspiration = evapotranspiration/2.45\n"
   ]
  },
  {
   "cell_type": "markdown",
   "metadata": {},
   "source": [
    "## Data Visualization"
   ]
  },
  {
   "cell_type": "code",
   "execution_count": 11,
   "metadata": {},
   "outputs": [
    {
     "data": {
      "image/png": "[encoded data removed]",
      "text/plain": [
       "<matplotlib.figure.Figure at 0x1096a7908>"
      ]
     },
     "metadata": {},
     "output_type": "display_data"
    }
   ],
   "source": [
    "dates = PT.graph_ET_results(date_time, evapotranspiration)"
   ]
  },
  {
   "cell_type": "markdown",
   "metadata": {},
   "source": [
    "### Results:\n",
    "\n",
    "The final product of the calculations, a table of PET in mm by day. "
   ]
  },
  {
   "cell_type": "code",
   "execution_count": 12,
   "metadata": {
    "scrolled": false
   },
   "outputs": [
    {
     "name": "stdout",
     "output_type": "stream",
     "text": [
      "          Date    PET (mm)\n",
      "0   2009-06-10  172.027980\n",
      "1   2009-06-11  151.739771\n",
      "2   2009-06-12  153.393715\n",
      "3   2009-06-13  179.441445\n",
      "4   2009-06-14  176.220550\n",
      "5   2009-06-15  187.459973\n",
      "6   2009-06-16  167.836115\n",
      "7   2009-06-17  111.596687\n",
      "8   2009-06-18  177.207333\n",
      "9   2009-06-19  179.047043\n",
      "10  2009-06-20  169.707196\n",
      "11  2009-06-21  113.573831\n",
      "12  2009-06-22  154.941933\n",
      "13  2009-06-23  204.549766\n",
      "14  2009-06-24  178.752090\n",
      "15  2009-06-25  169.581915\n",
      "16  2009-06-26  168.029172\n",
      "17  2009-06-27  190.401913\n",
      "18  2009-06-28  190.088410\n",
      "19  2009-06-29  200.053239\n",
      "20  2009-06-30  208.634059\n",
      "21  2009-07-01  177.967797\n",
      "22  2009-07-02  203.501956\n",
      "23  2009-07-03  198.658479\n",
      "24  2009-07-04  210.245503\n",
      "25  2009-07-05   81.360230\n",
      "26  2009-07-06  148.665686\n",
      "27  2009-07-07  118.197137\n",
      "28  2009-07-08   80.500184\n",
      "29  2009-07-09  101.497511\n",
      "30  2009-07-10  203.796999\n",
      "31  2009-07-11  174.246568\n",
      "32  2009-07-12  189.260929\n",
      "33  2009-07-13   69.918777\n",
      "34  2009-07-14  196.933903\n",
      "35  2009-07-15  204.185001\n",
      "36  2009-07-29   94.022866\n",
      "37  2009-07-30  123.656288\n",
      "38  2009-07-31  149.818970\n"
     ]
    }
   ],
   "source": [
    "ET = pd.DataFrame(evapotranspiration, columns = {'PET (mm)'})\n",
    "date = pd.DataFrame(dates, columns = {'Date'})\n",
    "table = pd.concat([date, ET], axis=1)\n",
    "print(table)"
   ]
  },
  {
   "cell_type": "markdown",
   "metadata": {},
   "source": [
    "## Questions:\n",
    "\n",
    "- I used the GHI parameter from the NSRDB as an estimate for extraterrestrial solar radiation, could I improve upon this?\n",
    "    - **Extraterrestrial Solar Radiation:** the intensity (power) of the sun at the top of the Earth's atmosphere. It is usually expressed in irradiance units (Watts per square meter) on a plane normal to the sun\n",
    "    - **Global Horizontal Irradiance (GHI):** the total amount of shortwave radiation received from above by a surface horizontal to the ground.\n",
    "- There is certainly a more scientifically and computationally efficient way to handle missing data from the NSRDB and weather station. What interpolation methods could be applied to fill in missing data, or how can I speed up the process of discarding incomplete data points?"
   ]
  },
  {
   "cell_type": "code",
   "execution_count": null,
   "metadata": {},
   "outputs": [],
   "source": []
  }
 ],
 "metadata": {
  "kernelspec": {
   "display_name": "Python [default]",
   "language": "python",
   "name": "python3"
  },
  "language_info": {
   "codemirror_mode": {
    "name": "ipython",
    "version": 3
   },
   "file_extension": ".py",
   "mimetype": "text/x-python",
   "name": "python",
   "nbconvert_exporter": "python",
   "pygments_lexer": "ipython3",
   "version": "3.6.6"
  }
 },
 "nbformat": 4,
 "nbformat_minor": 2
}
