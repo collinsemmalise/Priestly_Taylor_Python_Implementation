{
 "cells": [
  {
   "cell_type": "markdown",
   "metadata": {},
   "source": [
    "# Priestley-Taylor PET calculations\n",
    "\n",
    "**Last Updated: September 19, 2018**\n",
    "\n",
    "**Emma Collins**\n",
    "\n",
    "In this notebook we will calculate PET for Congaree National Park area using Priestly-Taylor equations (1972); thus, the potential evapotranspiration will be guided by the following: \n",
    "\n",
    "$$\\begin{equation}\n",
    "PET = \\alpha * \\frac{\\Delta}{\\Delta +\\gamma}(R_n-G)\n",
    "\\end{equation}$$\n",
    "\n",
    "where $\\Delta$ is the slope of saturation vapor pressure curve at air temperature $T$, $\\gamma$ is the psychrometric constant, $R_n$ is net radiation, $G$ si the heat flux transfer to and from the soil, and $\\alpha$ is a saturation deficit term.\n",
    "\n",
    "We will utilize weather station and solar radiation data from the following sources:\n",
    "- Weather Station:\n",
    "    - Remote Automated Weather Station (RAWS)\n",
    "    - Site Name: Congaree\n",
    "    - Site Code: SCON\n",
    "    - Station ID: GDNS1\n",
    "    - Watershed HUC8 : 03050110\n",
    "    - Lat/Long: 33˚48'54\"N, 80˚46'52\"W\n",
    "    - Elevation: 123 ft\n",
    "- National Solar Radiation Database\n",
    "    "
   ]
  },
  {
   "cell_type": "code",
   "execution_count": 1,
   "metadata": {},
   "outputs": [],
   "source": [
    "import pandas as pd\n",
    "import numpy as np\n",
    "import sys, os\n",
    "import json\n",
    "import requests\n",
    "import matplotlib.pyplot as plt\n",
    "import PriestlyTaylorET as PT\n",
    "import datetime\n",
    "import time\n",
    "import matplotlib\n",
    "import datetime as dt"
   ]
  },
  {
   "cell_type": "markdown",
   "metadata": {},
   "source": [
    "## Loading the Data\n",
    "\n",
    "First, we need all data inputs necessary for PET calculations. "
   ]
  },
  {
   "cell_type": "markdown",
   "metadata": {},
   "source": [
    "### Extraterrestrial Solar Radiation Data download\n",
    "\n",
    "Using the NREL National Solar Radiation Database API"
   ]
  },
  {
   "cell_type": "code",
   "execution_count": 2,
   "metadata": {},
   "outputs": [],
   "source": [
    "# Define the lat, long of the location and the year\n",
    "lat, lon, year = 33.814722, -80.781111, 2009\n",
    "\n",
    "# Signup for one here: https://developer.nrel.gov/signup/\n",
    "api_key = '****'\n",
    "\n",
    "# Set the attributes to extract (e.g., dhi, ghi, etc.), separated by commas.\n",
    "attributes = 'ghi'\n",
    "\n",
    "# Choose year of data\n",
    "year = '2009'\n",
    "\n",
    "# Set leap year to true or false. True will return leap day data if present, false will not.\n",
    "leap_year = 'false'\n",
    "\n",
    "# Set time interval in minutes, i.e., '30' is half hour intervals. Valid intervals are 30 & 60.\n",
    "interval = '60'\n",
    "\n",
    "# Specify Coordinated Universal Time (UTC), 'true' will use UTC, 'false' will use the local time zone of the data.\n",
    "# NOTE: In order to use the NSRDB data in SAM, you must specify UTC as 'false'. SAM requires the data to be in the\n",
    "# local time zone.\n",
    "utc = 'false'\n",
    "\n",
    "# Your full name, use '+' instead of spaces.\n",
    "your_name = 'Emma+Collins'\n",
    "\n",
    "# Your reason for using the NSRDB.\n",
    "reason_for_use = 'research'\n",
    "\n",
    "# Your affiliation\n",
    "your_affiliation = 'College+of+Charleston'\n",
    "\n",
    "# Your email address\n",
    "your_email = 'collinsel2@g.cofc.edu'\n",
    "\n",
    "# Please join our mailing list so we can keep you up-to-date on new developments.\n",
    "mailing_list = 'true'\n",
    "\n",
    "# Declare url string\n",
    "url = 'http://developer.nrel.gov/api/solar/nsrdb_0512_download.csv?wkt=POINT({lon}%20{lat})&names={year}&leap_day={leap}&interval={interval}&utc={utc}&full_name={name}&email={email}&affiliation={affiliation}&mailing_list={mailing_list}&reason={reason}&api_key={api}&attributes={attr}'.format(year=year, lat=lat, lon=lon, leap=leap_year, interval=interval, utc=utc, name=your_name, email=your_email, mailing_list=mailing_list, affiliation=your_affiliation, reason=reason_for_use, api=api_key, attr=attributes)\n",
    "# Return just the first 2 lines to get metadata:\n",
    "info = pd.read_csv(url, nrows=1)\n",
    "\n",
    "# See metadata for specified properties, e.g., timezone and elevation\n",
    "timezone, elevation = info['Local Time Zone'], info['Elevation']"
   ]
  },
  {
   "cell_type": "markdown",
   "metadata": {},
   "source": [
    "We will save the extraterrestrial solar radiation in a dataframe. I've selected GHI as the parameter to download from the database. GHI stands for Global Horizontal Irradiance, which is defined as:\n",
    "- \"the total amount of shortwave radiation received from above by a horizontal surface. This value is of particular interest to photovoltaic installations and includes both Direct Normal Irradiance (DNI) and Diffuse Horizontal Irradiance (DIF).\" (https://www.3tier.com/en/support/glossary/#ghi)"
   ]
  },
  {
   "cell_type": "code",
   "execution_count": 3,
   "metadata": {},
   "outputs": [],
   "source": [
    "# Return all but first 2 lines of csv to get data:rn all  \n",
    "GHI_df = pd.read_csv('http://developer.nrel.gov/api/solar/nsrdb_0512_download.csv?wkt=POINT({lon}%20{lat})&names={year}&leap_day={leap}&interval={interval}&utc={utc}&full_name={name}&email={email}&affiliation={affiliation}&mailing_list={mailing_list}&reason={reason}&api_key={api}&attributes={attr}'.format(year=year, lat=lat, lon=lon, leap=leap_year, interval=interval, utc=utc, name=your_name, email=your_email, mailing_list=mailing_list, affiliation=your_affiliation, reason=reason_for_use, api=api_key, attr=attributes), skiprows=2)\n",
    "\n",
    "# Set the time index in the pandas dataframe:\n",
    "GHI_df = GHI_df.set_index(pd.date_range('1/1/{yr}'.format(yr=year), freq=interval+'Min', periods=525600/int(interval)))"
   ]
  },
  {
   "cell_type": "code",
   "execution_count": 4,
   "metadata": {},
   "outputs": [],
   "source": [
    "#To save the data as a .csv file\n",
    "#df.loc['2009-6-1':'2009-7-31'].to_csv(path_or_buf='GHI_JuneJuly_2009.csv')\n",
    "\n",
    "#Subset the dataframe of solar radiation data to June and July of 2009\n",
    "GHI_df = GHI_df.loc['2009-6-1':'2009-7-31']\n",
    "\n",
    "#Make date/time its own column\n",
    "GHI_df.index.name = 'DateTime'\n",
    "GHI_df.reset_index(inplace=True)"
   ]
  },
  {
   "cell_type": "code",
   "execution_count": 5,
   "metadata": {},
   "outputs": [
    {
     "data": {
      "text/html": [
       "<div>\n",
       "<style scoped>\n",
       "    .dataframe tbody tr th:only-of-type {\n",
       "        vertical-align: middle;\n",
       "    }\n",
       "\n",
       "    .dataframe tbody tr th {\n",
       "        vertical-align: top;\n",
       "    }\n",
       "\n",
       "    .dataframe thead th {\n",
       "        text-align: right;\n",
       "    }\n",
       "</style>\n",
       "<table border=\"1\" class=\"dataframe\">\n",
       "  <thead>\n",
       "    <tr style=\"text-align: right;\">\n",
       "      <th></th>\n",
       "      <th>DateTime</th>\n",
       "      <th>Year</th>\n",
       "      <th>Month</th>\n",
       "      <th>Day</th>\n",
       "      <th>Hour</th>\n",
       "      <th>Minute</th>\n",
       "      <th>GHI</th>\n",
       "    </tr>\n",
       "  </thead>\n",
       "  <tbody>\n",
       "    <tr>\n",
       "      <th>0</th>\n",
       "      <td>2009-06-01 00:00:00</td>\n",
       "      <td>2009</td>\n",
       "      <td>6</td>\n",
       "      <td>1</td>\n",
       "      <td>0</td>\n",
       "      <td>30</td>\n",
       "      <td>0</td>\n",
       "    </tr>\n",
       "    <tr>\n",
       "      <th>1</th>\n",
       "      <td>2009-06-01 01:00:00</td>\n",
       "      <td>2009</td>\n",
       "      <td>6</td>\n",
       "      <td>1</td>\n",
       "      <td>1</td>\n",
       "      <td>30</td>\n",
       "      <td>0</td>\n",
       "    </tr>\n",
       "    <tr>\n",
       "      <th>2</th>\n",
       "      <td>2009-06-01 02:00:00</td>\n",
       "      <td>2009</td>\n",
       "      <td>6</td>\n",
       "      <td>1</td>\n",
       "      <td>2</td>\n",
       "      <td>30</td>\n",
       "      <td>0</td>\n",
       "    </tr>\n",
       "    <tr>\n",
       "      <th>3</th>\n",
       "      <td>2009-06-01 03:00:00</td>\n",
       "      <td>2009</td>\n",
       "      <td>6</td>\n",
       "      <td>1</td>\n",
       "      <td>3</td>\n",
       "      <td>30</td>\n",
       "      <td>0</td>\n",
       "    </tr>\n",
       "    <tr>\n",
       "      <th>4</th>\n",
       "      <td>2009-06-01 04:00:00</td>\n",
       "      <td>2009</td>\n",
       "      <td>6</td>\n",
       "      <td>1</td>\n",
       "      <td>4</td>\n",
       "      <td>30</td>\n",
       "      <td>0</td>\n",
       "    </tr>\n",
       "  </tbody>\n",
       "</table>\n",
       "</div>"
      ],
      "text/plain": [
       "             DateTime  Year  Month  Day  Hour  Minute  GHI\n",
       "0 2009-06-01 00:00:00  2009      6    1     0      30    0\n",
       "1 2009-06-01 01:00:00  2009      6    1     1      30    0\n",
       "2 2009-06-01 02:00:00  2009      6    1     2      30    0\n",
       "3 2009-06-01 03:00:00  2009      6    1     3      30    0\n",
       "4 2009-06-01 04:00:00  2009      6    1     4      30    0"
      ]
     },
     "execution_count": 5,
     "metadata": {},
     "output_type": "execute_result"
    }
   ],
   "source": [
    "#Preview the data\n",
    "GHI_df.head()"
   ]
  },
  {
   "cell_type": "markdown",
   "metadata": {},
   "source": [
    "## Accessing Weather Station Data\n",
    "\n",
    "Using MesoWest API for Congaree Weather Station GDNS1"
   ]
  },
  {
   "cell_type": "code",
   "execution_count": 6,
   "metadata": {},
   "outputs": [],
   "source": [
    "#Signup for a key here: https://synopticlabs.org/api/signup/\n",
    "api_token = '****'\n",
    "\n",
    "#Base Url\n",
    "api_url = 'http://api.mesowest.net/v2/stations/timeseries'\n",
    "\n",
    "#Enter start and end time as 'yyyymmddHHMM'\n",
    "start_time = '200906010400'\n",
    "end_time = '200908010400'\n",
    "\n",
    "#Set parameters for API request\n",
    "parameters = {\"start\": start_time, \"end\": end_time,\"precip\":'1',\"timeformat\":'%Y-%m-%d %H:%M', \"complete\":'0', \"obtimezone\":'local', \"stid\":'GDNS1', \"state\":'sc', \"output\":'JSON',\"vars\":'fuel_temp,solar_radiation,air_temp,relative_humidity,fuel_moisture, precip_accum',\"token\":api_token}\n",
    "\n",
    "#Access API\n",
    "response = requests.get(api_url, params=parameters)"
   ]
  },
  {
   "cell_type": "code",
   "execution_count": 7,
   "metadata": {},
   "outputs": [],
   "source": [
    "#Convert to JSON object\n",
    "weather = response.json()\n",
    "\n",
    "#Store observations as numpy arrays, note observations are hourly\n",
    "date_time = np.array(weather['STATION'][0]['OBSERVATIONS']['date_time'])\n",
    "solar_radiation = np.array(weather['STATION'][0]['OBSERVATIONS']['solar_radiation_set_1'])\n",
    "fuel_temp = np.array(weather['STATION'][0]['OBSERVATIONS']['fuel_temp_set_1'])\n",
    "relative_humidity = np.array(weather['STATION'][0]['OBSERVATIONS']['relative_humidity_set_1'])\n",
    "fuel_moisture = np.array(weather['STATION'][0]['OBSERVATIONS']['fuel_moisture_set_1'])\n",
    "air_temp = np.array(weather['STATION'][0]['OBSERVATIONS']['air_temp_set_1'])\n",
    "precip_accum = np.array(weather['STATION'][0]['OBSERVATIONS']['precip_accumulated_set_1d'])\n",
    "                                              "
   ]
  },
  {
   "cell_type": "markdown",
   "metadata": {},
   "source": [
    "To handle the missing data issue, we will ensure that we only keep weather station and solar radiation data points when both are available.\n",
    "\n",
    "Note: This is the largest computational cost of the program, and discards potentially many data points. Should we use interpolation methods to fill in missing data? "
   ]
  },
  {
   "cell_type": "code",
   "execution_count": 8,
   "metadata": {},
   "outputs": [],
   "source": [
    "GHI_ind = []\n",
    "weather_ind = []\n",
    "for i in range(len(GHI_df.iloc[:,0])):\n",
    "    for j in range(len(date_time)):\n",
    "        if np.datetime64(GHI_df.iloc[i,0])== np.datetime64(date_time[j][0:13]):\n",
    "            if relative_humidity[j] and solar_radiation[j] and fuel_temp[j] and fuel_moisture[j] and air_temp[j]:\n",
    "                GHI_ind.append(i)\n",
    "                weather_ind.append(j)"
   ]
  },
  {
   "cell_type": "code",
   "execution_count": 9,
   "metadata": {},
   "outputs": [
    {
     "data": {
      "text/html": [
       "<div>\n",
       "<style scoped>\n",
       "    .dataframe tbody tr th:only-of-type {\n",
       "        vertical-align: middle;\n",
       "    }\n",
       "\n",
       "    .dataframe tbody tr th {\n",
       "        vertical-align: top;\n",
       "    }\n",
       "\n",
       "    .dataframe thead th {\n",
       "        text-align: right;\n",
       "    }\n",
       "</style>\n",
       "<table border=\"1\" class=\"dataframe\">\n",
       "  <thead>\n",
       "    <tr style=\"text-align: right;\">\n",
       "      <th></th>\n",
       "      <th></th>\n",
       "      <th></th>\n",
       "      <th>GHI</th>\n",
       "    </tr>\n",
       "    <tr>\n",
       "      <th>Year</th>\n",
       "      <th>Month</th>\n",
       "      <th>Day</th>\n",
       "      <th></th>\n",
       "    </tr>\n",
       "  </thead>\n",
       "  <tbody>\n",
       "    <tr>\n",
       "      <th rowspan=\"5\" valign=\"top\">2009</th>\n",
       "      <th rowspan=\"5\" valign=\"top\">6</th>\n",
       "      <th>10</th>\n",
       "      <td>2043</td>\n",
       "    </tr>\n",
       "    <tr>\n",
       "      <th>11</th>\n",
       "      <td>3696</td>\n",
       "    </tr>\n",
       "    <tr>\n",
       "      <th>12</th>\n",
       "      <td>6130</td>\n",
       "    </tr>\n",
       "    <tr>\n",
       "      <th>13</th>\n",
       "      <td>6766</td>\n",
       "    </tr>\n",
       "    <tr>\n",
       "      <th>14</th>\n",
       "      <td>6505</td>\n",
       "    </tr>\n",
       "  </tbody>\n",
       "</table>\n",
       "</div>"
      ],
      "text/plain": [
       "                 GHI\n",
       "Year Month Day      \n",
       "2009 6     10   2043\n",
       "           11   3696\n",
       "           12   6130\n",
       "           13   6766\n",
       "           14   6505"
      ]
     },
     "execution_count": 9,
     "metadata": {},
     "output_type": "execute_result"
    }
   ],
   "source": [
    "GHI_daily = GHI_df.iloc[GHI_ind].groupby(['Year','Month', 'Day']).agg({'GHI':'sum'})\n",
    "GHI_daily.head()"
   ]
  },
  {
   "cell_type": "code",
   "execution_count": 10,
   "metadata": {},
   "outputs": [],
   "source": [
    "date_time = date_time[weather_ind]\n",
    "solar_radiation = solar_radiation[weather_ind]\n",
    "fuel_temp = fuel_temp[weather_ind]\n",
    "relative_humidity = relative_humidity[weather_ind]\n",
    "fuel_moisture = fuel_moisture[weather_ind]\n",
    "air_temp = air_temp[weather_ind]"
   ]
  },
  {
   "cell_type": "code",
   "execution_count": 11,
   "metadata": {},
   "outputs": [
    {
     "data": {
      "text/html": [
       "<div>\n",
       "<style scoped>\n",
       "    .dataframe tbody tr th:only-of-type {\n",
       "        vertical-align: middle;\n",
       "    }\n",
       "\n",
       "    .dataframe tbody tr th {\n",
       "        vertical-align: top;\n",
       "    }\n",
       "\n",
       "    .dataframe thead th {\n",
       "        text-align: right;\n",
       "    }\n",
       "</style>\n",
       "<table border=\"1\" class=\"dataframe\">\n",
       "  <thead>\n",
       "    <tr style=\"text-align: right;\">\n",
       "      <th></th>\n",
       "      <th>air_temp_set_1</th>\n",
       "      <th>fuel_moisture_set_1</th>\n",
       "      <th>fuel_temp_set_1</th>\n",
       "      <th>relative_humidity_set_1</th>\n",
       "      <th>solar_radiation_set_1</th>\n",
       "    </tr>\n",
       "    <tr>\n",
       "      <th>date_time</th>\n",
       "      <th></th>\n",
       "      <th></th>\n",
       "      <th></th>\n",
       "      <th></th>\n",
       "      <th></th>\n",
       "    </tr>\n",
       "  </thead>\n",
       "  <tbody>\n",
       "    <tr>\n",
       "      <th>2009-06-10</th>\n",
       "      <td>24.977500</td>\n",
       "      <td>20.183333</td>\n",
       "      <td>26.481250</td>\n",
       "      <td>78.818182</td>\n",
       "      <td>5494.0</td>\n",
       "    </tr>\n",
       "    <tr>\n",
       "      <th>2009-06-11</th>\n",
       "      <td>23.797083</td>\n",
       "      <td>21.916667</td>\n",
       "      <td>25.255417</td>\n",
       "      <td>84.157895</td>\n",
       "      <td>4829.0</td>\n",
       "    </tr>\n",
       "    <tr>\n",
       "      <th>2009-06-12</th>\n",
       "      <td>24.258750</td>\n",
       "      <td>22.470833</td>\n",
       "      <td>25.623750</td>\n",
       "      <td>87.166667</td>\n",
       "      <td>4902.0</td>\n",
       "    </tr>\n",
       "    <tr>\n",
       "      <th>2009-06-13</th>\n",
       "      <td>25.810417</td>\n",
       "      <td>18.954167</td>\n",
       "      <td>27.570000</td>\n",
       "      <td>82.208333</td>\n",
       "      <td>5667.0</td>\n",
       "    </tr>\n",
       "    <tr>\n",
       "      <th>2009-06-14</th>\n",
       "      <td>26.064167</td>\n",
       "      <td>16.883333</td>\n",
       "      <td>28.264583</td>\n",
       "      <td>80.125000</td>\n",
       "      <td>5484.0</td>\n",
       "    </tr>\n",
       "  </tbody>\n",
       "</table>\n",
       "</div>"
      ],
      "text/plain": [
       "            air_temp_set_1  fuel_moisture_set_1  fuel_temp_set_1  \\\n",
       "date_time                                                          \n",
       "2009-06-10       24.977500            20.183333        26.481250   \n",
       "2009-06-11       23.797083            21.916667        25.255417   \n",
       "2009-06-12       24.258750            22.470833        25.623750   \n",
       "2009-06-13       25.810417            18.954167        27.570000   \n",
       "2009-06-14       26.064167            16.883333        28.264583   \n",
       "\n",
       "            relative_humidity_set_1  solar_radiation_set_1  \n",
       "date_time                                                   \n",
       "2009-06-10                78.818182                 5494.0  \n",
       "2009-06-11                84.157895                 4829.0  \n",
       "2009-06-12                87.166667                 4902.0  \n",
       "2009-06-13                82.208333                 5667.0  \n",
       "2009-06-14                80.125000                 5484.0  "
      ]
     },
     "execution_count": 11,
     "metadata": {},
     "output_type": "execute_result"
    }
   ],
   "source": [
    "weather_station = pd.DataFrame(weather['STATION'][0]['OBSERVATIONS'])\n",
    "weather_station['date_time'] = pd.to_datetime(weather_station['date_time'], format = '%Y-%m-%d %H:%M')\n",
    "weather_station['date_time'] = weather_station['date_time'].dt.floor('d')\n",
    "weather_station_daily = weather_station.groupby(['date_time']).agg({'air_temp_set_1':'mean','fuel_moisture_set_1':'mean', 'fuel_temp_set_1':'mean', 'relative_humidity_set_1':'mean', 'solar_radiation_set_1':'sum'})\n",
    "weather_station_daily = weather_station_daily.dropna(how = 'any')\n",
    "weather_station_daily.head()\n"
   ]
  },
  {
   "cell_type": "code",
   "execution_count": 12,
   "metadata": {},
   "outputs": [
    {
     "data": {
      "text/html": [
       "<div>\n",
       "<style scoped>\n",
       "    .dataframe tbody tr th:only-of-type {\n",
       "        vertical-align: middle;\n",
       "    }\n",
       "\n",
       "    .dataframe tbody tr th {\n",
       "        vertical-align: top;\n",
       "    }\n",
       "\n",
       "    .dataframe thead th {\n",
       "        text-align: right;\n",
       "    }\n",
       "</style>\n",
       "<table border=\"1\" class=\"dataframe\">\n",
       "  <thead>\n",
       "    <tr style=\"text-align: right;\">\n",
       "      <th></th>\n",
       "      <th></th>\n",
       "      <th></th>\n",
       "      <th>GHI</th>\n",
       "    </tr>\n",
       "    <tr>\n",
       "      <th>Year</th>\n",
       "      <th>Month</th>\n",
       "      <th>Day</th>\n",
       "      <th></th>\n",
       "    </tr>\n",
       "  </thead>\n",
       "  <tbody>\n",
       "    <tr>\n",
       "      <th rowspan=\"5\" valign=\"top\">2009</th>\n",
       "      <th rowspan=\"5\" valign=\"top\">6</th>\n",
       "      <th>10</th>\n",
       "      <td>2043</td>\n",
       "    </tr>\n",
       "    <tr>\n",
       "      <th>11</th>\n",
       "      <td>3696</td>\n",
       "    </tr>\n",
       "    <tr>\n",
       "      <th>12</th>\n",
       "      <td>6130</td>\n",
       "    </tr>\n",
       "    <tr>\n",
       "      <th>13</th>\n",
       "      <td>6766</td>\n",
       "    </tr>\n",
       "    <tr>\n",
       "      <th>14</th>\n",
       "      <td>6505</td>\n",
       "    </tr>\n",
       "  </tbody>\n",
       "</table>\n",
       "</div>"
      ],
      "text/plain": [
       "                 GHI\n",
       "Year Month Day      \n",
       "2009 6     10   2043\n",
       "           11   3696\n",
       "           12   6130\n",
       "           13   6766\n",
       "           14   6505"
      ]
     },
     "execution_count": 12,
     "metadata": {},
     "output_type": "execute_result"
    }
   ],
   "source": [
    "GHI_daily.head()"
   ]
  },
  {
   "cell_type": "markdown",
   "metadata": {},
   "source": [
    "### Converting from Solar Radiation To Net Radiation\n",
    "\n",
    "albedo (REF)\n",
    "\n",
    "$a_c$, $b_c$ (REF, FAO 1990)"
   ]
  },
  {
   "cell_type": "code",
   "execution_count": 13,
   "metadata": {},
   "outputs": [],
   "source": [
    "#For a coniferous/deciduous forest, albedo is set at 0.15\n",
    "albedo = 0.15\n",
    "\n",
    "#extraterrestrial solar radiation\n",
    "Ra = np.asarray(GHI_daily)\n",
    "\n",
    "#Convert from W/m**2 to MJ/m**2/d\n",
    "Ra = Ra*0.0864\n",
    "solar_radiation = np.asarray(weather_station_daily['solar_radiation_set_1'])\n",
    "solar_radiation = solar_radiation*0.0864\n",
    "\n",
    "#Elevation of weather station(m)\n",
    "elevation_ft = np.float(weather['STATION'][0]['ELEVATION'])\n",
    "elevation = elevation_ft*.3048\n",
    "\n",
    "#Daily Air Temp\n",
    "air_temp_daily = np.asarray(weather_station_daily['air_temp_set_1'])\n",
    "\n",
    "#Daily Relative Humidity\n",
    "relative_humidity_daily = np.asarray(weather_station_daily['relative_humidity_set_1'])\n",
    "\n",
    "fuel_temp_daily = np.asarray(weather_station_daily['fuel_temp_set_1'])\n",
    "\n",
    "fuel_moisture_daily = np.asarray(weather_station_daily['fuel_moisture_set_1'])"
   ]
  },
  {
   "cell_type": "markdown",
   "metadata": {},
   "source": [
    "### Priestley-Taylor PET calculations"
   ]
  },
  {
   "cell_type": "markdown",
   "metadata": {},
   "source": [
    "Implementing Priestly Taylor for Congaree NP"
   ]
  },
  {
   "cell_type": "code",
   "execution_count": 14,
   "metadata": {},
   "outputs": [],
   "source": [
    "evapotranspiration = PT.PET(air_temp_daily, fuel_temp_daily, elevation,relative_humidity_daily, fuel_moisture_daily, solar_radiation, Ra, albedo)\n",
    "\n",
    "#convert from MJ/m**2/day to mm/day\n",
    "evapotranspiration = evapotranspiration/2.45\n"
   ]
  },
  {
   "cell_type": "code",
   "execution_count": 15,
   "metadata": {},
   "outputs": [
    {
     "data": {
      "text/plain": [
       "Text(0.5,0,'Date')"
      ]
     },
     "execution_count": 15,
     "metadata": {},
     "output_type": "execute_result"
    },
    {
     "data": {
      "image/png": "[encoded data removed]",
      "text/plain": [
       "<matplotlib.figure.Figure at 0x1167f3e10>"
      ]
     },
     "metadata": {},
     "output_type": "display_data"
    }
   ],
   "source": [
    "dates = []\n",
    "for i in range(len(date_time)):\n",
    "    h = datetime.datetime.strptime(date_time[i], \"%Y-%m-%d %H:%M\")\n",
    "    dates.append(datetime.datetime.date(h))\n",
    "dates = sorted(list(set(dates)))\n",
    "dates_plot = matplotlib.dates.date2num(dates)\n",
    "plt.figure(figsize = (15,10))\n",
    "plt.plot_date(dates_plot, np.asarray(evapotranspiration),'-', ydate = False)\n",
    "plt.title(\"Evapotranspiration\")\n",
    "plt.xticks(rotation = 'vertical')\n",
    "plt.ylabel('mm/day')\n",
    "plt.xlabel('Date')"
   ]
  },
  {
   "cell_type": "code",
   "execution_count": 16,
   "metadata": {},
   "outputs": [],
   "source": [
    "ET = pd.DataFrame(evapotranspiration, columns = {'PET (mm)'})\n",
    "date = pd.DataFrame(dates, columns = {'Date'})\n",
    "table = pd.concat([date, ET], axis=1)"
   ]
  },
  {
   "cell_type": "markdown",
   "metadata": {},
   "source": [
    "### Results:\n",
    "\n",
    "The final product of the calculations, a table of PET in mm by day. "
   ]
  },
  {
   "cell_type": "code",
   "execution_count": 17,
   "metadata": {
    "scrolled": false
   },
   "outputs": [
    {
     "name": "stdout",
     "output_type": "stream",
     "text": [
      "          Date    PET (mm)\n",
      "0   2009-06-10  172.027980\n",
      "1   2009-06-11  151.739771\n",
      "2   2009-06-12  153.393715\n",
      "3   2009-06-13  179.441445\n",
      "4   2009-06-14  176.220550\n",
      "5   2009-06-15  187.459973\n",
      "6   2009-06-16  167.836115\n",
      "7   2009-06-17  111.596687\n",
      "8   2009-06-18  177.207333\n",
      "9   2009-06-19  179.047043\n",
      "10  2009-06-20  169.707196\n",
      "11  2009-06-21  113.573831\n",
      "12  2009-06-22  154.941933\n",
      "13  2009-06-23  204.549766\n",
      "14  2009-06-24  178.752090\n",
      "15  2009-06-25  169.581915\n",
      "16  2009-06-26  168.029172\n",
      "17  2009-06-27  190.401913\n",
      "18  2009-06-28  190.088410\n",
      "19  2009-06-29  200.053239\n",
      "20  2009-06-30  208.634059\n",
      "21  2009-07-01  177.967797\n",
      "22  2009-07-02  203.501956\n",
      "23  2009-07-03  198.658479\n",
      "24  2009-07-04  210.245503\n",
      "25  2009-07-05   81.360230\n",
      "26  2009-07-06  148.665686\n",
      "27  2009-07-07  118.197137\n",
      "28  2009-07-08   80.500184\n",
      "29  2009-07-09  101.497511\n",
      "30  2009-07-10  203.796999\n",
      "31  2009-07-11  174.246568\n",
      "32  2009-07-12  189.260929\n",
      "33  2009-07-13   69.918777\n",
      "34  2009-07-14  196.933903\n",
      "35  2009-07-15  204.185001\n",
      "36  2009-07-29   94.022866\n",
      "37  2009-07-30  123.656288\n",
      "38  2009-07-31  149.818970\n"
     ]
    }
   ],
   "source": [
    "print(table)"
   ]
  },
  {
   "cell_type": "markdown",
   "metadata": {},
   "source": [
    "## Questions:\n",
    "- I used the GHI parameter from the NSRDB as an estimate for extraterrestrial solar radiation, is there a way to improve upon this? \n",
    "    - **Extraterrestrial Solar Radiation:** the intensity (power) of the sun at the top of the Earth's atmosphere. It is usually expressed in irradiance units (Watts per square meter) on a plane normal to the sun\n",
    "    - **Global Horizontal Irradiance (GHI):** the total amount of shortwave radiation received from above by a surface horizontal to the ground."
   ]
  },
  {
   "cell_type": "code",
   "execution_count": null,
   "metadata": {},
   "outputs": [],
   "source": []
  }
 ],
 "metadata": {
  "kernelspec": {
   "display_name": "Python [default]",
   "language": "python",
   "name": "python3"
  },
  "language_info": {
   "codemirror_mode": {
    "name": "ipython",
    "version": 3
   },
   "file_extension": ".py",
   "mimetype": "text/x-python",
   "name": "python",
   "nbconvert_exporter": "python",
   "pygments_lexer": "ipython3",
   "version": "3.6.6"
  }
 },
 "nbformat": 4,
 "nbformat_minor": 2
}
